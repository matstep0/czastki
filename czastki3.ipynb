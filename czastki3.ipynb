{
 "cells": [
  {
   "cell_type": "code",
   "execution_count": 2,
   "metadata": {},
   "outputs": [],
   "source": [
    "import pandas as pd\n",
    "import matplotlib.pyplot as plt"
   ]
  },
  {
   "cell_type": "code",
   "execution_count": 3,
   "metadata": {},
   "outputs": [
    {
     "name": "stdout",
     "output_type": "stream",
     "text": [
      "<class 'pandas.core.frame.DataFrame'>\n",
      "RangeIndex: 100000 entries, 0 to 99999\n",
      "Data columns (total 16 columns):\n",
      "Run            100000 non-null int64\n",
      "Event          100000 non-null int64\n",
      "pt             100000 non-null float64\n",
      "eta            100000 non-null float64\n",
      "phi            100000 non-null float64\n",
      "Q              100000 non-null int64\n",
      "type           100000 non-null object\n",
      "delEta         100000 non-null int64\n",
      "delPhi         100000 non-null int64\n",
      "sigmaEtaEta    100000 non-null float64\n",
      "HoverE         100000 non-null float64\n",
      "isoTrack       100000 non-null float64\n",
      "isoEcal        100000 non-null float64\n",
      "isoHcal        100000 non-null float64\n",
      "MET            100000 non-null float64\n",
      "phiMET         100000 non-null float64\n",
      "dtypes: float64(10), int64(5), object(1)\n",
      "memory usage: 12.2+ MB\n",
      "None\n",
      "      Run      Event       pt     eta     phi  Q type  delEta  delPhi  \\\n",
      "0  167676  328843401  38.6387 -0.8499  1.8486 -1   EB       0       0   \n",
      "1  167676  328836311  59.1666 -2.1095 -2.5163  1   EE       0       0   \n",
      "2  167676  328915343  31.7262  2.4504  2.8956  1   EE       0       0   \n",
      "3  167676  328884653  73.4109 -1.3951  2.0052 -1   EB       0       0   \n",
      "4  167676  328970109  49.1363 -2.4326  3.0219  1   EE       0       0   \n",
      "\n",
      "   sigmaEtaEta  HoverE  isoTrack  isoEcal  isoHcal      MET  phiMET  \n",
      "0       0.0095  0.0000    0.0000   1.2241   0.0000  46.7884 -1.3886  \n",
      "1       0.0214  0.0177   20.4771   2.5441   6.7450  15.0179  1.1503  \n",
      "2       0.0288  0.0000    0.7775   1.8222   0.3663  20.6550 -0.2703  \n",
      "3       0.0100  0.0000   22.8584   8.0151   8.2951   3.2858 -0.7739  \n",
      "4       0.0271  0.0000    0.0000   0.1154   0.0000   3.1425  2.5081  \n"
     ]
    }
   ],
   "source": [
    "df = pd.read_csv(\"Wenu.csv\")\n",
    "print(df.info())\n",
    "print(df.head())"
   ]
  },
  {
   "cell_type": "code",
   "execution_count": 14,
   "metadata": {},
   "outputs": [],
   "source": [
    "typeEB=df.loc[(df.type==\"EB\")]\n",
    "typeEE=df.loc[(df.type==\"EE\")]"
   ]
  },
  {
   "cell_type": "code",
   "execution_count": 59,
   "metadata": {},
   "outputs": [],
   "source": [
    "zmienna=[\"sigmaEtaEta\",\"HoverE\",\"isoTrackpt\",\"isoEcalpt\",\"isoHcalpt\"]\n",
    "ciecia={}\n",
    "ciecia[\"EB\"]=[0.011,0.045,0.1,0.08,0.1]\n",
    "ciecia[\"EE\"]=[0.033,0.025,0.04,0.06,0.03]\n",
    "newdata = pd.DataFrame().assign(type=df.type,\n",
    "                            sigmaEtaEta=df.sigmaEtaEta, \n",
    "                            HoverE=df.HoverE, \n",
    "                            isoTrackpt=df.isoTrack/df.pt, \n",
    "                            isoEcalpt=df.isoEcal/df.pt,\n",
    "                            isoHcalpt=df.isoHcal/df.pt)"
   ]
  },
  {
   "cell_type": "code",
   "execution_count": null,
   "metadata": {},
   "outputs": [],
   "source": []
  },
  {
   "cell_type": "code",
   "execution_count": 90,
   "metadata": {},
   "outputs": [
    {
     "name": "stdout",
     "output_type": "stream",
     "text": [
      "0.9122427469906251\n",
      "0.892180248146299\n",
      "0.5887095283001423\n",
      "0.4271555629518685\n",
      "0.8217858397588802\n"
     ]
    }
   ],
   "source": [
    "region=\"EB\"\n",
    "all=len(newdata.loc[(newdata.type==region)])\n",
    "for i in range(len(zmienna)):\n",
    "    print(len(newdata.loc[(newdata[zmienna[i]]<ciecia[region][i]) & (newdata.type==region)])/all)\n",
    "    \n"
   ]
  },
  {
   "cell_type": "code",
   "execution_count": 91,
   "metadata": {},
   "outputs": [
    {
     "name": "stdout",
     "output_type": "stream",
     "text": [
      "0.9641760491299898\n",
      "0.7503865502297524\n",
      "0.5705481391145277\n",
      "0.6681547943117229\n",
      "0.4514906683507916\n"
     ]
    }
   ],
   "source": [
    "region=\"EE\"\n",
    "all=len(newdata.loc[(newdata.type==region)])\n",
    "for i in range(len(zmienna)):\n",
    "    print(len(newdata.loc[(newdata[zmienna[i]]<ciecia[region][i]) & (newdata.type==region)])/all)"
   ]
  },
  {
   "cell_type": "code",
   "execution_count": 99,
   "metadata": {},
   "outputs": [
    {
     "name": "stdout",
     "output_type": "stream",
     "text": [
      "0.34405798709343394\n",
      "0.3420979641648638\n",
      "0.3722379393872155\n",
      "0.5071651781586879\n",
      "0.34289306780569884\n",
      "0.3343503263623084\n"
     ]
    }
   ],
   "source": [
    "region=\"EB\"\n",
    "all=len(newdata.loc[(newdata.type==region)])\n",
    "for i in range(len(zmienna)+1):\n",
    "    data=newdata.loc[newdata.type==region]\n",
    "    for j in range(len(zmienna)):\n",
    "        if(j!=i): data=data.loc[(data[zmienna[j]]<ciecia[region][j]) & (data.type==region)]\n",
    "    print(len(data)/all)\n"
   ]
  },
  {
   "cell_type": "code",
   "execution_count": 98,
   "metadata": {},
   "outputs": [
    {
     "name": "stdout",
     "output_type": "stream",
     "text": [
      "0.2708029356039983\n",
      "0.28404364206537597\n",
      "0.3260306191336919\n",
      "0.30412247653476776\n",
      "0.3882706504932599\n",
      "0.2669700995230732\n"
     ]
    }
   ],
   "source": [
    "region=\"EE\"\n",
    "all=len(newdata.loc[(newdata.type==region)])\n",
    "for i in range(len(zmienna)+1):\n",
    "    data=newdata.loc[newdata.type==region]\n",
    "    for j in range(len(zmienna)):\n",
    "        if(j!=i): data=data.loc[(data[zmienna[j]]<ciecia[region][j]) & (data.type==region)]\n",
    "    print(len(data)/all)"
   ]
  },
  {
   "cell_type": "code",
   "execution_count": 110,
   "metadata": {},
   "outputs": [
    {
     "data": {
      "text/plain": [
       "(array([2.9000e+01, 1.1700e+02, 6.0970e+03, 4.2738e+04, 3.5130e+03,\n",
       "        1.0470e+03, 4.0100e+02, 1.0900e+02, 2.5000e+01, 5.0000e+00]),\n",
       " array([0.     , 0.00272, 0.00544, 0.00816, 0.01088, 0.0136 , 0.01632,\n",
       "        0.01904, 0.02176, 0.02448, 0.0272 ]),\n",
       " <a list of 10 Patch objects>)"
      ]
     },
     "execution_count": 110,
     "metadata": {},
     "output_type": "execute_result"
    },
    {
     "data": {
      "image/png": "[encoded data removed]",
      "text/plain": [
       "<Figure size 432x288 with 1 Axes>"
      ]
     },
     "metadata": {
      "needs_background": "light"
     },
     "output_type": "display_data"
    }
   ],
   "source": [
    "x=newdata.loc[(newdata.type==region)]\n",
    "plt.hist(x.sigmaEtaEta)"
   ]
  },
  {
   "cell_type": "code",
   "execution_count": 104,
   "metadata": {},
   "outputs": [
    {
     "data": {
      "text/plain": [
       "(array([1.8000e+01, 1.2000e+01, 4.3000e+01, 7.6000e+01, 7.2300e+02,\n",
       "        6.3570e+03, 2.9313e+04, 1.4613e+04, 3.9630e+03, 3.0240e+03,\n",
       "        3.3160e+03, 3.4290e+03, 3.5060e+03, 3.9420e+03, 4.1720e+03,\n",
       "        3.5440e+03, 3.4360e+03, 3.1260e+03, 2.7530e+03, 2.7930e+03,\n",
       "        2.2640e+03, 1.6670e+03, 1.2910e+03, 9.1800e+02, 6.0100e+02,\n",
       "        4.1300e+02, 2.6500e+02, 1.6700e+02, 8.8000e+01, 4.7000e+01,\n",
       "        4.0000e+01, 2.7000e+01, 1.1000e+01, 1.4000e+01, 6.0000e+00,\n",
       "        5.0000e+00, 8.0000e+00, 2.0000e+00, 3.0000e+00, 0.0000e+00,\n",
       "        0.0000e+00, 1.0000e+00, 0.0000e+00, 0.0000e+00, 1.0000e+00,\n",
       "        0.0000e+00, 0.0000e+00, 1.0000e+00, 0.0000e+00, 1.0000e+00]),\n",
       " array([0.      , 0.001368, 0.002736, 0.004104, 0.005472, 0.00684 ,\n",
       "        0.008208, 0.009576, 0.010944, 0.012312, 0.01368 , 0.015048,\n",
       "        0.016416, 0.017784, 0.019152, 0.02052 , 0.021888, 0.023256,\n",
       "        0.024624, 0.025992, 0.02736 , 0.028728, 0.030096, 0.031464,\n",
       "        0.032832, 0.0342  , 0.035568, 0.036936, 0.038304, 0.039672,\n",
       "        0.04104 , 0.042408, 0.043776, 0.045144, 0.046512, 0.04788 ,\n",
       "        0.049248, 0.050616, 0.051984, 0.053352, 0.05472 , 0.056088,\n",
       "        0.057456, 0.058824, 0.060192, 0.06156 , 0.062928, 0.064296,\n",
       "        0.065664, 0.067032, 0.0684  ]),\n",
       " <a list of 50 Patch objects>)"
      ]
     },
     "execution_count": 104,
     "metadata": {},
     "output_type": "execute_result"
    },
    {
     "data": {
      "image/png": "[encoded data removed]",
      "text/plain": [
       "<Figure size 432x288 with 1 Axes>"
      ]
     },
     "metadata": {
      "needs_background": "light"
     },
     "output_type": "display_data"
    }
   ],
   "source": [
    "plt.hist(newdata.sigmaEtaEta,bins=50)"
   ]
  },
  {
   "cell_type": "code",
   "execution_count": 105,
   "metadata": {},
   "outputs": [
    {
     "ename": "NameError",
     "evalue": "name 'zakres' is not defined",
     "output_type": "error",
     "traceback": [
      "\u001b[0;31m---------------------------------------------------------------------------\u001b[0m",
      "\u001b[0;31mNameError\u001b[0m                                 Traceback (most recent call last)",
      "\u001b[0;32m<ipython-input-105-dd28a8751ec3>\u001b[0m in \u001b[0;36m<module>\u001b[0;34m\u001b[0m\n\u001b[1;32m      1\u001b[0m \u001b[0mregion\u001b[0m\u001b[0;34m=\u001b[0m\u001b[0;34m\"EB\"\u001b[0m\u001b[0;34m\u001b[0m\u001b[0;34m\u001b[0m\u001b[0m\n\u001b[1;32m      2\u001b[0m \u001b[0mi\u001b[0m\u001b[0;34m=\u001b[0m\u001b[0;36m0\u001b[0m\u001b[0;34m\u001b[0m\u001b[0;34m\u001b[0m\u001b[0m\n\u001b[0;32m----> 3\u001b[0;31m \u001b[0mname\u001b[0m\u001b[0;34m=\u001b[0m\u001b[0mzakres\u001b[0m\u001b[0;34m[\u001b[0m\u001b[0mi\u001b[0m\u001b[0;34m]\u001b[0m\u001b[0;34m\u001b[0m\u001b[0;34m\u001b[0m\u001b[0m\n\u001b[0m\u001b[1;32m      4\u001b[0m \u001b[0mx\u001b[0m\u001b[0;34m=\u001b[0m\u001b[0mnewdata\u001b[0m\u001b[0;34m.\u001b[0m\u001b[0mloc\u001b[0m\u001b[0;34m[\u001b[0m\u001b[0;34m(\u001b[0m\u001b[0mnewdata\u001b[0m\u001b[0;34m.\u001b[0m\u001b[0mtype\u001b[0m\u001b[0;34m==\u001b[0m\u001b[0mregion\u001b[0m\u001b[0;34m)\u001b[0m\u001b[0;34m]\u001b[0m\u001b[0;34m\u001b[0m\u001b[0;34m\u001b[0m\u001b[0m\n\u001b[1;32m      5\u001b[0m \u001b[0mplt\u001b[0m\u001b[0;34m.\u001b[0m\u001b[0mhist\u001b[0m\u001b[0;34m(\u001b[0m\u001b[0;34m)\u001b[0m\u001b[0;34m\u001b[0m\u001b[0;34m\u001b[0m\u001b[0m\n",
      "\u001b[0;31mNameError\u001b[0m: name 'zakres' is not defined"
     ]
    }
   ],
   "source": [
    "region=\"EB\"\n",
    "data=newdata.loc[(newdata.type==region)]\n",
    "for i in range(zmienna):\n",
    "    name=zmienna[i]\n",
    "    x=data.name\n",
    "    y=data.loc[(data.name<ciecia[region][i])]\n",
    "    plt.hist()\n",
    "    plt=typeEB[name].plot(kind=\"hist\",bins=50,range=[20,120])\n",
    "    plt.set_xlabel(name)\n",
    "    plt.set_ylabel(\"Number of events\")\n",
    "    fig = plt.get_figure()\n",
    "    fig.savefig('EB/EB_'+name+'.pdf')"
   ]
  },
  {
   "cell_type": "code",
   "execution_count": null,
   "metadata": {},
   "outputs": [],
   "source": []
  }
 ],
 "metadata": {
  "kernelspec": {
   "display_name": "Python 3",
   "language": "python",
   "name": "python3"
  },
  "language_info": {
   "codemirror_mode": {
    "name": "ipython",
    "version": 3
   },
   "file_extension": ".py",
   "mimetype": "text/x-python",
   "name": "python",
   "nbconvert_exporter": "python",
   "pygments_lexer": "ipython3",
   "version": "3.7.3"
  }
 },
 "nbformat": 4,
 "nbformat_minor": 2
}
